{
 "cells": [
  {
   "cell_type": "code",
   "execution_count": 1,
   "metadata": {},
   "outputs": [],
   "source": [
    "import pandas as pd\n",
    "import numpy as np\n",
    "import matplotlib.pyplot as plt\n",
    "from sklearn.svm import SVC\n",
    "from sklearn.preprocessing import MinMaxScaler, Normalizer, StandardScaler, RobustScaler, MaxAbsScaler\n",
    "from sklearn.ensemble import BaggingClassifier, RandomForestClassifier\n",
    "from sklearn.feature_selection import RFECV\n",
    "from sklearn.model_selection import train_test_split, GridSearchCV\n",
    "from sklearn.feature_selection import SelectFromModel"
   ]
  },
  {
   "cell_type": "code",
   "execution_count": 2,
   "metadata": {},
   "outputs": [],
   "source": [
    "svc = SVC()\n",
    "minMax = MinMaxScaler()\n",
    "norm = Normalizer()\n",
    "stdSc = StandardScaler()\n",
    "robustSc = RobustScaler()\n",
    "maxAbs = MaxAbsScaler()"
   ]
  },
  {
   "cell_type": "code",
   "execution_count": 3,
   "metadata": {},
   "outputs": [],
   "source": [
    "file = open('ClaMP_Integrated.csv')\n",
    "df = pd.read_csv(file, encoding='utf-8')"
   ]
  },
  {
   "cell_type": "code",
   "execution_count": 4,
   "metadata": {},
   "outputs": [],
   "source": [
    "pt = df['packer_type'].unique()\n",
    "p_types = {pt[i] : i for i in range(len(pt))}"
   ]
  },
  {
   "cell_type": "code",
   "execution_count": 5,
   "metadata": {},
   "outputs": [],
   "source": [
    "temp = []\n",
    "for t in df['packer_type']:\n",
    "    temp.append(p_types[t])\n",
    "df['pt_num'] = temp\n",
    "y = df.pop('class')\n",
    "df.pop('packer_type')\n",
    "x_train, x_test, y_train, y_test = train_test_split(df, y, random_state=0)"
   ]
  },
  {
   "cell_type": "code",
   "execution_count": 6,
   "metadata": {},
   "outputs": [],
   "source": [
    "X_train_minmaxSc = minMax.fit_transform(x_train)\n",
    "X_test_minmaxSc = minMax.transform(x_test)\n",
    "\n",
    "X_train_norm = norm.fit_transform(x_train)\n",
    "X_test_norm = norm.transform(x_test)\n",
    "\n",
    "X_train_std = stdSc.fit_transform(x_train)\n",
    "X_test_std = stdSc.transform(x_test)\n",
    "\n",
    "X_train_robust = robustSc.fit_transform(x_train)\n",
    "X_test_robust = robustSc.transform(x_test)\n",
    "\n",
    "X_train_maxAbs = maxAbs.fit_transform(x_train)\n",
    "X_test_maxAbs = maxAbs.transform(x_test)"
   ]
  },
  {
   "cell_type": "code",
   "execution_count": 7,
   "metadata": {},
   "outputs": [
    {
     "name": "stdout",
     "output_type": "stream",
     "text": [
      "Правильность на исходном наборе: 0.5510\n",
      "Правильность после MinMaxScaler: 0.9371\n",
      "Правильность после Normalizer: 0.8058\n",
      "Правильность после StandardScaler: 0.9601\n",
      "Правильность после RobustScaler: 0.6953\n",
      "Правильность после MaxAbsScaler: 0.9355\n"
     ]
    }
   ],
   "source": [
    "svc.fit(x_train, y_train)\n",
    "print('Правильность на исходном наборе: {:.4f}'.format(\n",
    "    svc.score(x_test, y_test)\n",
    "))\n",
    "\n",
    "svc.fit(X_train_minmaxSc, y_train)\n",
    "print('Правильность после MinMaxScaler: {:.4f}'.format(\n",
    "    svc.score(X_test_minmaxSc, y_test)\n",
    "))\n",
    "\n",
    "svc.fit(X_train_norm, y_train)\n",
    "print('Правильность после Normalizer: {:.4f}'.format(\n",
    "    svc.score(X_test_norm, y_test)\n",
    "))\n",
    "\n",
    "svc.fit(X_train_std, y_train)\n",
    "print('Правильность после StandardScaler: {:.4f}'.format(\n",
    "    svc.score(X_test_std, y_test)\n",
    "))\n",
    "\n",
    "svc.fit(X_train_robust, y_train)\n",
    "print('Правильность после RobustScaler: {:.4f}'.format(\n",
    "    svc.score(X_test_robust, y_test)\n",
    "))\n",
    "\n",
    "svc.fit(X_train_maxAbs, y_train)\n",
    "print('Правильность после MaxAbsScaler: {:.4f}'.format(\n",
    "    svc.score(X_test_maxAbs, y_test)\n",
    "))"
   ]
  },
  {
   "cell_type": "code",
   "execution_count": 8,
   "metadata": {},
   "outputs": [
    {
     "name": "stdout",
     "output_type": "stream",
     "text": [
      "Наилучшая модель:SVC(C=1, gamma=0.001)\n",
      "Правильность на исходном наборе: 0.612\n",
      "Правильность после MinMaxScaler: 0.975\n",
      "Правильность после Normalizer: 0.906\n",
      "Правильность после StandartScaler: 0.982\n",
      "Правильность после RobustScaler: 0.968\n",
      "Правильность после MaxAbsScaler: 0.972\n"
     ]
    }
   ],
   "source": [
    "param_grid = {'C':[0.001, 0.01, 0.1, 1, 10, 100, 1000],\n",
    "    'gamma':[0.001, 0.01, 0.1, 1, 10, 100, 1000]}\n",
    "\n",
    "grid_search = GridSearchCV(SVC(), param_grid, cv=5)\n",
    "grid_search.fit(x_train, y_train)\n",
    "\n",
    "print('Наилучшая модель:{}'.format(grid_search.best_estimator_))\n",
    "\n",
    "print('Правильность на исходном наборе: {:.3f}'.format(\n",
    "    grid_search.score(x_test, y_test)))\n",
    "\n",
    "grid_search.fit(X_train_minmaxSc, y_train)\n",
    "print('Правильность после MinMaxScaler: {:.3f}'.format(\n",
    "    grid_search.score(X_test_minmaxSc, y_test)))\n",
    "\n",
    "grid_search.fit(X_train_norm, y_train)\n",
    "print('Правильность после Normalizer: {:.3f}'.format(\n",
    "    grid_search.score(X_test_norm, y_test)))\n",
    "\n",
    "grid_search.fit(X_train_std, y_train)\n",
    "print('Правильность после StandartScaler: {:.3f}'.format(\n",
    "    grid_search.score(X_test_std, y_test)))\n",
    "\n",
    "grid_search.fit(X_train_robust, y_train)\n",
    "print('Правильность после RobustScaler: {:.3f}'.format(\n",
    "    grid_search.score(X_test_robust, y_test)))\n",
    "\n",
    "grid_search.fit(X_train_maxAbs, y_train)\n",
    "print('Правильность после MaxAbsScaler: {:.3f}'.format(\n",
    "    grid_search.score(X_test_maxAbs, y_test)))"
   ]
  },
  {
   "cell_type": "code",
   "execution_count": 9,
   "metadata": {},
   "outputs": [
    {
     "name": "stdout",
     "output_type": "stream",
     "text": [
      "Index(['e_cblp', 'e_cp', 'e_cparhdr', 'e_maxalloc', 'e_sp', 'e_lfanew',\n",
      "       'NumberOfSections', 'CreationYear', 'FH_char0', 'FH_char1', 'FH_char2',\n",
      "       'FH_char3', 'FH_char4', 'FH_char5', 'FH_char6', 'FH_char7', 'FH_char8',\n",
      "       'FH_char9', 'FH_char10', 'FH_char11', 'FH_char12', 'FH_char13',\n",
      "       'FH_char14', 'MajorLinkerVersion', 'MinorLinkerVersion', 'SizeOfCode',\n",
      "       'SizeOfInitializedData', 'SizeOfUninitializedData',\n",
      "       'AddressOfEntryPoint', 'BaseOfCode', 'BaseOfData', 'ImageBase',\n",
      "       'SectionAlignment', 'FileAlignment', 'MajorOperatingSystemVersion',\n",
      "       'MinorOperatingSystemVersion', 'MajorImageVersion', 'MinorImageVersion',\n",
      "       'MajorSubsystemVersion', 'MinorSubsystemVersion', 'SizeOfImage',\n",
      "       'SizeOfHeaders', 'CheckSum', 'Subsystem', 'OH_DLLchar0', 'OH_DLLchar1',\n",
      "       'OH_DLLchar2', 'OH_DLLchar3', 'OH_DLLchar4', 'OH_DLLchar5',\n",
      "       'OH_DLLchar6', 'OH_DLLchar7', 'OH_DLLchar8', 'OH_DLLchar9',\n",
      "       'OH_DLLchar10', 'SizeOfStackReserve', 'SizeOfStackCommit',\n",
      "       'SizeOfHeapReserve', 'SizeOfHeapCommit', 'LoaderFlags', 'sus_sections',\n",
      "       'non_sus_sections', 'packer', 'E_text', 'E_data', 'filesize', 'E_file',\n",
      "       'fileinfo', 'pt_num'],\n",
      "      dtype='object')\n",
      "(1, 69)\n"
     ]
    },
    {
     "data": {
      "text/plain": [
       "Text(0.5, 0, 'Индекс примера')"
      ]
     },
     "execution_count": 9,
     "metadata": {},
     "output_type": "execute_result"
    },
    {
     "data": {
      "image/png": "[encoded data removed]",
      "text/plain": [
       "<Figure size 1152x144 with 1 Axes>"
      ]
     },
     "metadata": {
      "needs_background": "light"
     },
     "output_type": "display_data"
    }
   ],
   "source": [
    "print(df.columns)\n",
    "selectedModel = SelectFromModel(RandomForestClassifier(n_estimators=500, max_depth=100), threshold = 'median')\n",
    "selectedModel.fit(x_train, y_train)\n",
    "selectedModel.transform(x_train)\n",
    "mask = selectedModel.get_support()\n",
    "\n",
    "mask = mask.reshape(1, -1)\n",
    "plt.matshow(mask, fignum=3, cmap='gray_r')\n",
    "print(mask.shape)\n",
    "plt.xlabel('Индекс примера')"
   ]
  }
 ],
 "metadata": {
  "interpreter": {
   "hash": "4fc42076dd6f349004ab220f45ec2a3bd8631a39b0e20c34aeb2ec43e501aae4"
  },
  "kernelspec": {
   "display_name": "Python 3.9.7 64-bit",
   "name": "python3"
  },
  "language_info": {
   "codemirror_mode": {
    "name": "ipython",
    "version": 3
   },
   "file_extension": ".py",
   "mimetype": "text/x-python",
   "name": "python",
   "nbconvert_exporter": "python",
   "pygments_lexer": "ipython3",
   "version": "3.9.7"
  },
  "orig_nbformat": 4
 },
 "nbformat": 4,
 "nbformat_minor": 2
}
