{
 "cells": [
  {
   "cell_type": "code",
   "execution_count": 1,
   "source": [
    "from sklearn.datasets import load_digits\r\n",
    "from sklearn.metrics import accuracy_score\r\n",
    "from sklearn.linear_model import LogisticRegression\r\n",
    "from sklearn.metrics import confusion_matrix\r\n",
    "from sklearn.model_selection import train_test_split"
   ],
   "outputs": [],
   "metadata": {}
  },
  {
   "cell_type": "code",
   "execution_count": 2,
   "source": [
    "digits = load_digits()"
   ],
   "outputs": [],
   "metadata": {}
  },
  {
   "cell_type": "code",
   "execution_count": 3,
   "source": [
    "X_train, X_test, y_train, y_test = train_test_split(\r\n",
    "    digits.data, digits.target, random_state=0)\r\n",
    "lr = LogisticRegression(max_iter=1000, n_jobs=-1).fit(X_train, y_train)\r\n",
    "pred = lr.predict(X_test)\r\n",
    "\r\n",
    "print('Accuracy: {:.3f}'.format(accuracy_score(y_test, pred)))\r\n",
    "print('Confusion matrix:\\n{}'.format(confusion_matrix(y_test, pred)))"
   ],
   "outputs": [
    {
     "output_type": "stream",
     "name": "stdout",
     "text": [
      "Accuracy: 0.953\n",
      "Confusion matrix:\n",
      "[[37  0  0  0  0  0  0  0  0  0]\n",
      " [ 0 39  0  0  0  0  1  0  2  1]\n",
      " [ 0  0 41  3  0  0  0  0  0  0]\n",
      " [ 0  0  0 44  0  0  0  0  1  0]\n",
      " [ 0  0  0  0 37  0  0  1  0  0]\n",
      " [ 0  0  0  0  0 46  0  0  0  2]\n",
      " [ 0  1  0  0  0  0 51  0  0  0]\n",
      " [ 0  0  0  1  1  0  0 46  0  0]\n",
      " [ 0  3  1  0  0  0  0  0 44  0]\n",
      " [ 0  0  0  0  0  1  0  0  2 44]]\n"
     ]
    }
   ],
   "metadata": {}
  },
  {
   "cell_type": "code",
   "execution_count": 4,
   "source": [
    "import matplotlib.pyplot as plt\r\n",
    "import mglearn"
   ],
   "outputs": [],
   "metadata": {}
  },
  {
   "cell_type": "code",
   "execution_count": 5,
   "source": [
    "scores_image = mglearn.tools.heatmap(\r\n",
    "    confusion_matrix(y_test, pred), xlabel='Спрогнозированная метка класса',\r\n",
    "    ylabel='Фактическая метка класса', xticklabels=digits.target_names,\r\n",
    "    yticklabels=digits.target_names, cmap=plt.cm.gray_r, fmt='%d')\r\n",
    "plt.title('Матрица ошибок')\r\n",
    "plt.gca().invert_yaxis()"
   ],
   "outputs": [
    {
     "output_type": "display_data",
     "data": {
      "image/png": "[encoded data removed]",
      "text/plain": [
       "<Figure size 432x288 with 1 Axes>"
      ]
     },
     "metadata": {
      "needs_background": "light"
     }
    }
   ],
   "metadata": {}
  },
  {
   "cell_type": "code",
   "execution_count": 11,
   "source": [
    "from sklearn.metrics import classification_report\r\n",
    "from sklearn.metrics import f1_score\r\n",
    "from sklearn.model_selection import cross_val_score, GridSearchCV\r\n",
    "from sklearn.svm import SVC\r\n",
    "from sklearn.metrics import roc_auc_score"
   ],
   "outputs": [],
   "metadata": {}
  },
  {
   "cell_type": "code",
   "execution_count": 7,
   "source": [
    "print(classification_report(y_test, pred))"
   ],
   "outputs": [
    {
     "output_type": "stream",
     "name": "stdout",
     "text": [
      "              precision    recall  f1-score   support\n",
      "\n",
      "           0       1.00      1.00      1.00        37\n",
      "           1       0.91      0.91      0.91        43\n",
      "           2       0.98      0.93      0.95        44\n",
      "           3       0.92      0.98      0.95        45\n",
      "           4       0.97      0.97      0.97        38\n",
      "           5       0.98      0.96      0.97        48\n",
      "           6       0.98      0.98      0.98        52\n",
      "           7       0.98      0.96      0.97        48\n",
      "           8       0.90      0.92      0.91        48\n",
      "           9       0.94      0.94      0.94        47\n",
      "\n",
      "    accuracy                           0.95       450\n",
      "   macro avg       0.95      0.95      0.95       450\n",
      "weighted avg       0.95      0.95      0.95       450\n",
      "\n"
     ]
    }
   ],
   "metadata": {}
  },
  {
   "cell_type": "markdown",
   "source": [
    "Возможен выбор усреднения f1-меры по одной из трёх стратегий: macro (нахождение невзвешенного среднего по классам), weighted (нахождение среднего по классам, взвешенного по поддержке ), micro (нахождение FPR, FNR, TPR по всем классам, а затем вычисление точности, полноты и f1-меры с помощью этих показателей)"
   ],
   "metadata": {}
  },
  {
   "cell_type": "code",
   "execution_count": 8,
   "source": [
    "print('Микро-усреднённая f1-мера: {:.3f}'.format(\r\n",
    "    f1_score(y_test, pred, average='micro')))\r\n",
    "print('Взвешенно-усреднённая f1-мера: {:.3f}'.format(\r\n",
    "    f1_score(y_test, pred, average='weighted')))\r\n",
    "print('Макро-усреднённая f1-мера: {:.3f}'.format(\r\n",
    "    f1_score(y_test, pred, average='macro')))"
   ],
   "outputs": [
    {
     "output_type": "stream",
     "name": "stdout",
     "text": [
      "Микро-усреднённая f1-мера: 0.953\n",
      "Взвешенно-усреднённая f1-мера: 0.953\n",
      "Макро-усреднённая f1-мера: 0.954\n"
     ]
    }
   ],
   "metadata": {}
  },
  {
   "cell_type": "code",
   "execution_count": 10,
   "source": [
    "print('Метрика качества по умолчанию: {}'.format(\r\n",
    "    cross_val_score(SVC(), digits.data, digits.target == 9)))\r\n",
    "explicit_accuracy = cross_val_score(SVC(), digits.data, digits.target == 9,\r\n",
    "    scoring='accuracy')\r\n",
    "print('Метрика качества - явно заданная (правильность): {}'.format(explicit_accuracy))\r\n",
    "roc_auc = cross_val_score(SVC(), digits.data, digits.target == 9,\r\n",
    "    scoring='roc_auc')\r\n",
    "print('Метрика качества - AUC: {}'.format(roc_auc))"
   ],
   "outputs": [
    {
     "output_type": "stream",
     "name": "stdout",
     "text": [
      "Метрика качества по умолчанию: [0.975      0.99166667 1.         0.99442897 0.98050139]\n",
      "Метрика качества - явно заданная (правильность): [0.975      0.99166667 1.         0.99442897 0.98050139]\n",
      "Метрика качества - AUC: [0.99717078 0.99854252 1.         0.999828   0.98400413]\n"
     ]
    }
   ],
   "metadata": {}
  },
  {
   "cell_type": "code",
   "execution_count": 12,
   "source": [
    "X_train, X_test, y_train, y_test = train_test_split(\r\n",
    "    digits.data, digits.target == 9, random_state=0)\r\n",
    "\r\n",
    "param_grid = {'gamma': [0.0001, 0.01, 0.1, 1, 10]}\r\n",
    "grid = GridSearchCV(SVC(), param_grid=param_grid)\r\n",
    "grid.fit(X_train, y_train)\r\n",
    "\r\n",
    "print('Решетчатый поиск с использованием правильности')\r\n",
    "print('Наилучшие параметры:', grid.best_params_)\r\n",
    "print('Наилучшее значение перекрёстной проверки (правильность): {:.3f}'.format(\r\n",
    "    grid.best_score_))\r\n",
    "print('AUC на тестовом наборе: {:.3f}'.format(\r\n",
    "    roc_auc_score(y_test, grid.decision_function(X_test))))\r\n",
    "print('Правильность на тестовом наборе: {:.3f}'.format(\r\n",
    "    grid.score(X_test, y_test)))"
   ],
   "outputs": [
    {
     "output_type": "stream",
     "name": "stdout",
     "text": [
      "Решетчатый поиск с использованием правильности\n",
      "Наилучшие параметры: {'gamma': 0.0001}\n",
      "Наилучшее значение перекрёстной проверки (правильность): 0.976\n",
      "AUC на тестовом наборе: 0.992\n",
      "Правильность на тестовом наборе: 0.973\n"
     ]
    }
   ],
   "metadata": {}
  },
  {
   "cell_type": "code",
   "execution_count": 13,
   "source": [
    "grid = GridSearchCV(SVC(), param_grid=param_grid, scoring='roc_auc')\r\n",
    "grid.fit(X_train, y_train)\r\n",
    "print('Решетчатый поиск с использованием AUC')\r\n",
    "print('Наилучшие параметры:', grid.best_params_)\r\n",
    "print('Наилучшее значение перекрестной проверки (AUC): {:.3f}'.format(\r\n",
    "    grid.best_score_))\r\n",
    "print('AUC на тестовом наборе: {:.3f}'.format(\r\n",
    "    roc_auc_score(y_test, grid.decision_function(X_test))))\r\n",
    "print('Правильность на тестовом наборе: {:.3f}'.format(\r\n",
    "    grid.score(X_test, y_test)))"
   ],
   "outputs": [
    {
     "output_type": "stream",
     "name": "stdout",
     "text": [
      "Решетчатый поиск с использованием AUC\n",
      "Наилучшие параметры: {'gamma': 0.01}\n",
      "Наилучшее значение перекрестной проверки (AUC): 0.998\n",
      "AUC на тестовом наборе: 1.000\n",
      "Правильность на тестовом наборе: 1.000\n"
     ]
    }
   ],
   "metadata": {}
  },
  {
   "cell_type": "markdown",
   "source": [
    "Помимо Accuracy и roc_auc, в scikit-learn доступно множество других Скореров:"
   ],
   "metadata": {}
  },
  {
   "cell_type": "code",
   "execution_count": 14,
   "source": [
    "from sklearn.metrics._scorer import SCORERS\r\n",
    "print('Доступные объекты scorer:\\n{}'.format(sorted(SCORERS.keys())))"
   ],
   "outputs": [
    {
     "output_type": "stream",
     "name": "stdout",
     "text": [
      "Доступные объекты scorer:\n",
      "['accuracy', 'adjusted_mutual_info_score', 'adjusted_rand_score', 'average_precision', 'balanced_accuracy', 'completeness_score', 'explained_variance', 'f1', 'f1_macro', 'f1_micro', 'f1_samples', 'f1_weighted', 'fowlkes_mallows_score', 'homogeneity_score', 'jaccard', 'jaccard_macro', 'jaccard_micro', 'jaccard_samples', 'jaccard_weighted', 'max_error', 'mutual_info_score', 'neg_brier_score', 'neg_log_loss', 'neg_mean_absolute_error', 'neg_mean_absolute_percentage_error', 'neg_mean_gamma_deviance', 'neg_mean_poisson_deviance', 'neg_mean_squared_error', 'neg_mean_squared_log_error', 'neg_median_absolute_error', 'neg_root_mean_squared_error', 'normalized_mutual_info_score', 'precision', 'precision_macro', 'precision_micro', 'precision_samples', 'precision_weighted', 'r2', 'rand_score', 'recall', 'recall_macro', 'recall_micro', 'recall_samples', 'recall_weighted', 'roc_auc', 'roc_auc_ovo', 'roc_auc_ovo_weighted', 'roc_auc_ovr', 'roc_auc_ovr_weighted', 'top_k_accuracy', 'v_measure_score']\n"
     ]
    }
   ],
   "metadata": {}
  }
 ],
 "metadata": {
  "orig_nbformat": 4,
  "language_info": {
   "name": "python",
   "version": "3.9.6",
   "mimetype": "text/x-python",
   "codemirror_mode": {
    "name": "ipython",
    "version": 3
   },
   "pygments_lexer": "ipython3",
   "nbconvert_exporter": "python",
   "file_extension": ".py"
  },
  "kernelspec": {
   "name": "python3",
   "display_name": "Python 3.9.6 64-bit"
  },
  "interpreter": {
   "hash": "241fb731dd6f5ea65101631a1c9247244b987683021d8766a5bc39b0fc54124d"
  }
 },
 "nbformat": 4,
 "nbformat_minor": 2
}