{
 "cells": [
  {
   "cell_type": "code",
   "execution_count": 3,
   "source": [
    "from sklearn.feature_selection import RFE\r\n",
    "from sklearn.ensemble import RandomForestClassifier\r\n",
    "from sklearn.model_selection import train_test_split\r\n",
    "from sklearn.datasets import load_breast_cancer\r\n",
    "import numpy as np\r\n",
    "import matplotlib.pyplot as plt"
   ],
   "outputs": [],
   "metadata": {}
  },
  {
   "cell_type": "code",
   "execution_count": 2,
   "source": [
    "c = load_breast_cancer()\r\n",
    "\r\n",
    "rng = np.random.RandomState(47)\r\n",
    "noise = rng.normal(size=(len(c.data), 50))\r\n",
    "X_w_noise = np.hstack([c.data, noise])\r\n",
    "\r\n",
    "X_train, X_test, y_train, y_test = train_test_split(\r\n",
    "    X_w_noise, c.target, random_state=0, test_size=.5)"
   ],
   "outputs": [],
   "metadata": {}
  },
  {
   "cell_type": "code",
   "execution_count": 4,
   "source": [
    "selectRFE = RFE(\r\n",
    "    RandomForestClassifier(n_estimators=100, random_state=42), n_features_to_select=40)\r\n",
    "\r\n",
    "selectRFE.fit(X_train, y_train)\r\n",
    "mask = selectRFE.get_support()\r\n",
    "plt.matshow(mask.reshape(1, -1), cmap='gray_r')\r\n",
    "plt.xlabel('Индекс примера')"
   ],
   "outputs": [
    {
     "output_type": "execute_result",
     "data": {
      "text/plain": [
       "Text(0.5, 0, 'Индекс примера')"
      ]
     },
     "metadata": {},
     "execution_count": 4
    },
    {
     "output_type": "display_data",
     "data": {
      "image/png": "[encoded data removed]",
      "text/plain": [
       "<Figure size 1152x144 with 1 Axes>"
      ]
     },
     "metadata": {
      "needs_background": "light"
     }
    }
   ],
   "metadata": {}
  },
  {
   "cell_type": "code",
   "execution_count": 5,
   "source": [
    "from sklearn.linear_model import LogisticRegression"
   ],
   "outputs": [],
   "metadata": {}
  },
  {
   "cell_type": "code",
   "execution_count": 6,
   "source": [
    "X_trainRFE = selectRFE.transform(X_train)\r\n",
    "X_testRFE = selectRFE.transform(X_test)\r\n",
    "score = LogisticRegression(max_iter=10000).fit(X_trainRFE, y_train).score(X_testRFE, y_test)\r\n",
    "print('Правильность на тестовом наборе: {:.3f}'.format(score))"
   ],
   "outputs": [
    {
     "output_type": "stream",
     "name": "stdout",
     "text": [
      "Правильность на тестовом наборе: 0.940\n"
     ]
    }
   ],
   "metadata": {}
  },
  {
   "cell_type": "code",
   "execution_count": 7,
   "source": [
    "# Можно вычислять правильность на тестовом наборе, применяя модель внутри PCE\r\n",
    "\r\n",
    "print('Правильность на тестовом наборе: {:.3f}'.format(selectRFE.score(X_test, y_test)))"
   ],
   "outputs": [
    {
     "output_type": "stream",
     "name": "stdout",
     "text": [
      "Правильность на тестовом наборе: 0.940\n"
     ]
    }
   ],
   "metadata": {}
  }
 ],
 "metadata": {
  "orig_nbformat": 4,
  "language_info": {
   "name": "python",
   "version": "3.9.6",
   "mimetype": "text/x-python",
   "codemirror_mode": {
    "name": "ipython",
    "version": 3
   },
   "pygments_lexer": "ipython3",
   "nbconvert_exporter": "python",
   "file_extension": ".py"
  },
  "kernelspec": {
   "name": "python3",
   "display_name": "Python 3.9.6 64-bit"
  },
  "interpreter": {
   "hash": "241fb731dd6f5ea65101631a1c9247244b987683021d8766a5bc39b0fc54124d"
  }
 },
 "nbformat": 4,
 "nbformat_minor": 2
}