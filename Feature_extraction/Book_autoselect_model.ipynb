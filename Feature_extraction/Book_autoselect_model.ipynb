{
 "cells": [
  {
   "cell_type": "code",
   "execution_count": 8,
   "source": [
    "from sklearn.feature_selection import SelectFromModel\r\n",
    "from sklearn.ensemble import RandomForestClassifier\r\n",
    "from sklearn.model_selection import train_test_split\r\n",
    "from sklearn.datasets import load_breast_cancer\r\n",
    "import numpy as np\r\n",
    "import matplotlib.pyplot as plt"
   ],
   "outputs": [],
   "metadata": {}
  },
  {
   "cell_type": "code",
   "execution_count": 6,
   "source": [
    "c = load_breast_cancer()\r\n",
    "\r\n",
    "rng = np.random.RandomState(47)\r\n",
    "noise = rng.normal(size=(len(c.data), 50))\r\n",
    "X_w_noise = np.hstack([c.data, noise])\r\n",
    "\r\n",
    "X_train, X_test, y_train, y_test = train_test_split(\r\n",
    "    X_w_noise, c.target, random_state=0, test_size=.5)"
   ],
   "outputs": [],
   "metadata": {}
  },
  {
   "cell_type": "code",
   "execution_count": 2,
   "source": [
    "selectModel = SelectFromModel(\r\n",
    "    RandomForestClassifier(n_estimators=100, random_state=47), threshold='median')"
   ],
   "outputs": [],
   "metadata": {}
  },
  {
   "cell_type": "code",
   "execution_count": 7,
   "source": [
    "selectModel.fit(X_train, y_train)\r\n",
    "X_train_l1 = selectModel.transform(X_train)\r\n",
    "\r\n",
    "print('Форма обучающего набора X: {}'.format(X_train.shape))\r\n",
    "print('Форма обучающего набора X с l1: {}'.format(X_train_l1.shape))"
   ],
   "outputs": [
    {
     "output_type": "stream",
     "name": "stdout",
     "text": [
      "Форма обучающего набора X: (284, 80)\n",
      "Форма обучающего набора X с l1: (284, 40)\n"
     ]
    }
   ],
   "metadata": {}
  },
  {
   "cell_type": "code",
   "execution_count": 9,
   "source": [
    "mask = selectModel.get_support()\r\n",
    "plt.matshow(mask.reshape(1, -1), cmap='gray_r')\r\n",
    "plt.xlabel('Индекс примера')"
   ],
   "outputs": [
    {
     "output_type": "execute_result",
     "data": {
      "text/plain": [
       "Text(0.5, 0, 'Индекс примера')"
      ]
     },
     "metadata": {},
     "execution_count": 9
    },
    {
     "output_type": "display_data",
     "data": {
      "image/png": "[encoded data removed]",
      "text/plain": [
       "<Figure size 1152x144 with 1 Axes>"
      ]
     },
     "metadata": {
      "needs_background": "light"
     }
    }
   ],
   "metadata": {}
  },
  {
   "cell_type": "code",
   "execution_count": 10,
   "source": [
    "from sklearn.linear_model import LogisticRegression"
   ],
   "outputs": [],
   "metadata": {}
  },
  {
   "cell_type": "code",
   "execution_count": 18,
   "source": [
    "X_test_l1 = selectModel.transform(X_test)\r\n",
    "score = LogisticRegression(max_iter=10000).fit(X_train_l1, y_train).score(X_test_l1, y_test)\r\n",
    "print('Правильность на тестовом наборе: {:.3f}'.format(score))"
   ],
   "outputs": [
    {
     "output_type": "stream",
     "name": "stdout",
     "text": [
      "Правильность на тестовом наборе: 0.965\n"
     ]
    }
   ],
   "metadata": {}
  }
 ],
 "metadata": {
  "orig_nbformat": 4,
  "language_info": {
   "name": "python",
   "version": "3.9.6",
   "mimetype": "text/x-python",
   "codemirror_mode": {
    "name": "ipython",
    "version": 3
   },
   "pygments_lexer": "ipython3",
   "nbconvert_exporter": "python",
   "file_extension": ".py"
  },
  "kernelspec": {
   "name": "python3",
   "display_name": "Python 3.9.6 64-bit"
  },
  "interpreter": {
   "hash": "241fb731dd6f5ea65101631a1c9247244b987683021d8766a5bc39b0fc54124d"
  }
 },
 "nbformat": 4,
 "nbformat_minor": 2
}