{
 "cells": [
  {
   "cell_type": "code",
   "execution_count": 3,
   "source": [
    "from sklearn.datasets import load_breast_cancer\r\n",
    "from sklearn.feature_selection import SelectPercentile\r\n",
    "from sklearn.model_selection import train_test_split\r\n",
    "import numpy as np\r\n",
    "import matplotlib.pyplot as plt"
   ],
   "outputs": [],
   "metadata": {}
  },
  {
   "cell_type": "code",
   "execution_count": 2,
   "source": [
    "c = load_breast_cancer()\r\n",
    "\r\n",
    "rng = np.random.RandomState(47)\r\n",
    "noise = rng.normal(size=(len(c.data), 50))\r\n",
    "X_w_noise = np.hstack([c.data, noise])\r\n",
    "\r\n",
    "X_train, X_test, y_train, y_test = train_test_split(\r\n",
    "    X_w_noise, c.target, random_state=0, test_size=.5)\r\n",
    "\r\n",
    "selectPerc = SelectPercentile(percentile=50)\r\n",
    "selectPerc.fit(X_train, y_train)\r\n",
    "X_train_selected = selectPerc.transform(X_train)\r\n",
    "\r\n",
    "print('Форма массива X_train: {}'.format(X_train.shape))\r\n",
    "print('Форма массива X_train_selected: {}'.format(X_train_selected.shape))"
   ],
   "outputs": [
    {
     "output_type": "stream",
     "name": "stdout",
     "text": [
      "Форма массива X_train: (284, 80)\n",
      "Форма массива X_train_selected: (284, 40)\n"
     ]
    }
   ],
   "metadata": {}
  },
  {
   "cell_type": "code",
   "execution_count": 4,
   "source": [
    "mask = selectPerc.get_support()\r\n",
    "\r\n",
    "plt.matshow(mask.reshape(1, -1), cmap='gray_r')\r\n",
    "plt.xlabel('Индекс примера')"
   ],
   "outputs": [
    {
     "output_type": "execute_result",
     "data": {
      "text/plain": [
       "Text(0.5, 0, 'Индекс примера')"
      ]
     },
     "metadata": {},
     "execution_count": 4
    },
    {
     "output_type": "display_data",
     "data": {
      "image/png": "[encoded data removed]",
      "text/plain": [
       "<Figure size 1152x144 with 1 Axes>"
      ]
     },
     "metadata": {
      "needs_background": "light"
     }
    }
   ],
   "metadata": {}
  },
  {
   "cell_type": "code",
   "execution_count": 5,
   "source": [
    "from sklearn.linear_model import LogisticRegression"
   ],
   "outputs": [],
   "metadata": {}
  },
  {
   "cell_type": "code",
   "execution_count": 10,
   "source": [
    "X_test_selected = selectPerc.transform(X_test)\r\n",
    "\r\n",
    "lr = LogisticRegression(max_iter=500)\r\n",
    "lr.fit(X_train, y_train)\r\n",
    "print('Правильность со всеми признаками: {:.3f}'.format(lr.score(X_test, y_test)))\r\n",
    "\r\n",
    "lr.fit(X_train_selected, y_train)\r\n",
    "print('Правильность только с отобранными признаками: {:.3f}'.format(\r\n",
    "    lr.score(X_test_selected, y_test)))"
   ],
   "outputs": [
    {
     "output_type": "stream",
     "name": "stdout",
     "text": [
      "Правильность со всеми признаками: 0.912\n",
      "Правильность только с отобранными признаками: 0.940\n"
     ]
    },
    {
     "output_type": "stream",
     "name": "stderr",
     "text": [
      "C:\\Program Files (x86)\\Python3\\lib\\site-packages\\sklearn\\linear_model\\_logistic.py:763: ConvergenceWarning: lbfgs failed to converge (status=1):\n",
      "STOP: TOTAL NO. of ITERATIONS REACHED LIMIT.\n",
      "\n",
      "Increase the number of iterations (max_iter) or scale the data as shown in:\n",
      "    https://scikit-learn.org/stable/modules/preprocessing.html\n",
      "Please also refer to the documentation for alternative solver options:\n",
      "    https://scikit-learn.org/stable/modules/linear_model.html#logistic-regression\n",
      "  n_iter_i = _check_optimize_result(\n",
      "C:\\Program Files (x86)\\Python3\\lib\\site-packages\\sklearn\\linear_model\\_logistic.py:763: ConvergenceWarning: lbfgs failed to converge (status=1):\n",
      "STOP: TOTAL NO. of ITERATIONS REACHED LIMIT.\n",
      "\n",
      "Increase the number of iterations (max_iter) or scale the data as shown in:\n",
      "    https://scikit-learn.org/stable/modules/preprocessing.html\n",
      "Please also refer to the documentation for alternative solver options:\n",
      "    https://scikit-learn.org/stable/modules/linear_model.html#logistic-regression\n",
      "  n_iter_i = _check_optimize_result(\n"
     ]
    }
   ],
   "metadata": {}
  }
 ],
 "metadata": {
  "orig_nbformat": 4,
  "language_info": {
   "name": "python",
   "version": "3.9.6",
   "mimetype": "text/x-python",
   "codemirror_mode": {
    "name": "ipython",
    "version": 3
   },
   "pygments_lexer": "ipython3",
   "nbconvert_exporter": "python",
   "file_extension": ".py"
  },
  "kernelspec": {
   "name": "python3",
   "display_name": "Python 3.9.6 64-bit"
  },
  "interpreter": {
   "hash": "241fb731dd6f5ea65101631a1c9247244b987683021d8766a5bc39b0fc54124d"
  }
 },
 "nbformat": 4,
 "nbformat_minor": 2
}